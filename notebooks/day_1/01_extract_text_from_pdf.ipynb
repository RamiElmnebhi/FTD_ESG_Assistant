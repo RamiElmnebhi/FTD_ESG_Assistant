{
 "cells": [
  {
   "cell_type": "markdown",
   "id": "f6cf4a06",
   "metadata": {},
   "source": [
    "# 📝 Session 1: ESG PDF Exploration\n",
    "\n",
    "In this notebook, you'll explore a real ESG report (TotalEnergies 2024) and begin working with its raw content."
   ]
  },
  {
   "cell_type": "markdown",
   "id": "f7d50631",
   "metadata": {},
   "source": [
    "## 📥 Step 1: Load the PDF and View Metadata"
   ]
  },
  {
   "cell_type": "code",
   "execution_count": null,
   "id": "92e183cd",
   "metadata": {},
   "outputs": [],
   "source": [
    "import fitz  # PyMuPDF\n",
    "\n",
    "pdf_path = \"../../data/totalenergies_report.pdf\"\n",
    "doc = fitz.open(pdf_path)\n",
    "\n",
    "print(f\"Total number of pages: {len(doc)}\")"
   ]
  },
  {
   "cell_type": "markdown",
   "id": "fe2ef414",
   "metadata": {},
   "source": [
    "## 📄 Step 2: Display the First Few Pages"
   ]
  },
  {
   "cell_type": "code",
   "execution_count": null,
   "id": "5d509320",
   "metadata": {},
   "outputs": [],
   "source": [
    "# Print first 3 pages to get a feel for the structure\n",
    "for i in range(3):\n",
    "    print(f\"--- Page {i+1} ---\")\n",
    "    print(doc[i].get_text())\n",
    "    print(\"\\n\" + \"=\"*80 + \"\\n\")"
   ]
  },
  {
   "cell_type": "markdown",
   "id": "c9bb9226",
   "metadata": {},
   "source": [
    "## ✍️ Step 3: Manually Copy a Paragraph to Prompt the LLM"
   ]
  },
  {
   "cell_type": "code",
   "execution_count": null,
   "id": "f7f7b026",
   "metadata": {},
   "outputs": [],
   "source": [
    "# You can paste a paragraph here manually or use the page text directly\n",
    "context = doc[2].get_text()\n",
    "\n",
    "question = \"What are TotalEnergies' sustainability goals for 2030?\"\n",
    "\n",
    "print(\"📌 Prompt context preview:\")\n",
    "print(context[:500], \"...\")"
   ]
  },
  {
   "cell_type": "markdown",
   "id": "8abb7c3b",
   "metadata": {},
   "source": [
    "## 🤖 Step 4: Use OpenAI API to Ask a Question"
   ]
  },
  {
   "cell_type": "code",
   "execution_count": null,
   "id": "9df37ea3",
   "metadata": {},
   "outputs": [],
   "source": [
    "from openai import OpenAI\n",
    "import yaml\n",
    "\n",
    "# Load config\n",
    "with open(\"../../config/openai_config_template.yaml\", \"r\") as f:\n",
    "    config = yaml.safe_load(f)\n",
    "\n",
    "# Initialize OpenAI client\n",
    "client = OpenAI(api_key=config[\"openai_api_key\"])\n",
    "\n",
    "# Prepare context and question\n",
    "question = \"What are TotalEnergies' sustainability goals for 2030?\"\n",
    "context = \"...\"  # replace with extracted text from PDF\n",
    "\n",
    "# LLM call\n",
    "response = client.chat.completions.create(\n",
    "    model=config[\"model\"],\n",
    "    messages=[\n",
    "        {\"role\": \"system\", \"content\": \"You are an ESG analyst assistant.\"},\n",
    "        {\"role\": \"user\", \"content\": f\"Based on this document:\\n{context}\\n\\nAnswer this question: {question}\"}\n",
    "    ],\n",
    "    temperature=0.0,\n",
    ")\n",
    "\n",
    "# Extract and print the answer\n",
    "print(\"💬 LLM Answer:\")\n",
    "print(response.choices[0].message.content)"
   ]
  },
  {
   "cell_type": "markdown",
   "id": "f138ee10",
   "metadata": {},
   "source": [
    "## 🧠 Optional: Explore the Kaggle Dataset (for Comparison)"
   ]
  },
  {
   "cell_type": "code",
   "execution_count": null,
   "id": "53f080dc",
   "metadata": {},
   "outputs": [],
   "source": [
    "import pandas as pd\n",
    "\n",
    "df = pd.read_csv(\"../../data/kaggle_sp500_ESG_dataset.csv\")\n",
    "df[['filename', 'year', 'total_score']].head()"
   ]
  }
 ],
 "metadata": {
  "kernelspec": {
   "display_name": "Python 3",
   "language": "python",
   "name": "python3"
  },
  "language_info": {
   "codemirror_mode": {
    "name": "ipython",
    "version": 3
   },
   "file_extension": ".py",
   "mimetype": "text/x-python",
   "name": "python",
   "nbconvert_exporter": "python",
   "pygments_lexer": "ipython3",
   "version": "3.12.4"
  }
 },
 "nbformat": 4,
 "nbformat_minor": 5
}
